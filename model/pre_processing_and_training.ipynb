{
  "cells": [
    {
      "cell_type": "code",
      "execution_count": 1,
      "id": "7d7b1884-1e85-4a25-a338-b0d77ee4814a",
      "metadata": {
        "colab": {
          "base_uri": "https://localhost:8080/"
        },
        "id": "7d7b1884-1e85-4a25-a338-b0d77ee4814a",
        "outputId": "3d1c0114-ae9c-4fc6-bfde-02d43077cb66"
      },
      "outputs": [
        {
          "output_type": "stream",
          "name": "stdout",
          "text": [
            "Collecting unidecode\n",
            "  Downloading Unidecode-1.3.2-py3-none-any.whl (235 kB)\n",
            "\u001b[?25l\r\u001b[K     |█▍                              | 10 kB 26.1 MB/s eta 0:00:01\r\u001b[K     |██▉                             | 20 kB 33.4 MB/s eta 0:00:01\r\u001b[K     |████▏                           | 30 kB 35.0 MB/s eta 0:00:01\r\u001b[K     |█████▋                          | 40 kB 22.0 MB/s eta 0:00:01\r\u001b[K     |███████                         | 51 kB 19.3 MB/s eta 0:00:01\r\u001b[K     |████████▍                       | 61 kB 17.3 MB/s eta 0:00:01\r\u001b[K     |█████████▊                      | 71 kB 15.9 MB/s eta 0:00:01\r\u001b[K     |███████████▏                    | 81 kB 16.9 MB/s eta 0:00:01\r\u001b[K     |████████████▌                   | 92 kB 17.6 MB/s eta 0:00:01\r\u001b[K     |██████████████                  | 102 kB 17.9 MB/s eta 0:00:01\r\u001b[K     |███████████████▎                | 112 kB 17.9 MB/s eta 0:00:01\r\u001b[K     |████████████████▊               | 122 kB 17.9 MB/s eta 0:00:01\r\u001b[K     |██████████████████              | 133 kB 17.9 MB/s eta 0:00:01\r\u001b[K     |███████████████████▌            | 143 kB 17.9 MB/s eta 0:00:01\r\u001b[K     |████████████████████▉           | 153 kB 17.9 MB/s eta 0:00:01\r\u001b[K     |██████████████████████▎         | 163 kB 17.9 MB/s eta 0:00:01\r\u001b[K     |███████████████████████▋        | 174 kB 17.9 MB/s eta 0:00:01\r\u001b[K     |█████████████████████████       | 184 kB 17.9 MB/s eta 0:00:01\r\u001b[K     |██████████████████████████▍     | 194 kB 17.9 MB/s eta 0:00:01\r\u001b[K     |███████████████████████████▉    | 204 kB 17.9 MB/s eta 0:00:01\r\u001b[K     |█████████████████████████████▏  | 215 kB 17.9 MB/s eta 0:00:01\r\u001b[K     |██████████████████████████████▋ | 225 kB 17.9 MB/s eta 0:00:01\r\u001b[K     |████████████████████████████████| 235 kB 17.9 MB/s eta 0:00:01\r\u001b[K     |████████████████████████████████| 235 kB 17.9 MB/s \n",
            "\u001b[?25hInstalling collected packages: unidecode\n",
            "Successfully installed unidecode-1.3.2\n"
          ]
        }
      ],
      "source": [
        "import pandas as pd\n",
        "import re\n",
        "import string\n",
        "!pip install unidecode\n",
        "import unidecode\n",
        "from nltk import word_tokenize\n",
        "from nltk.stem import SnowballStemmer\n",
        "import nltk"
      ]
    },
    {
      "cell_type": "code",
      "execution_count": 2,
      "id": "a679b55b-dd88-49cd-a7b3-fa0207647308",
      "metadata": {
        "colab": {
          "base_uri": "https://localhost:8080/"
        },
        "id": "a679b55b-dd88-49cd-a7b3-fa0207647308",
        "outputId": "9a7a3be4-c9c0-442f-9b08-4b21f89d337c"
      },
      "outputs": [
        {
          "output_type": "stream",
          "name": "stdout",
          "text": [
            "[nltk_data] Downloading package punkt to /root/nltk_data...\n",
            "[nltk_data]   Unzipping tokenizers/punkt.zip.\n",
            "[nltk_data] Downloading package stopwords to /root/nltk_data...\n",
            "[nltk_data]   Unzipping corpora/stopwords.zip.\n"
          ]
        }
      ],
      "source": [
        "nltk.download('punkt')\n",
        "nltk.download('stopwords')\n",
        "stemmer = SnowballStemmer('spanish')\n",
        "pd.set_option('max_colwidth', 1000)"
      ]
    },
    {
      "cell_type": "code",
      "execution_count": 31,
      "id": "597e2280-f314-4743-aecc-84ae4f396523",
      "metadata": {
        "id": "597e2280-f314-4743-aecc-84ae4f396523"
      },
      "outputs": [],
      "source": [
        "tweets = pd.read_csv('assets/tweets.csv', encoding='utf-8', sep=',')\n",
        "# We just select textual content for the moment. Other columns shall be used later on\n",
        "tweets = tweets[['Text', 'Candidate']].copy()\n",
        "initial_size = len(tweets.index)\n",
        "tweets.dropna(inplace=True)\n",
        "tweets.rename({'Candidate': 'Label'}, axis='columns', inplace=True)\n",
        "tweets['Label'] = tweets['Label'].map({'Petro': 0, 'Fajardo': 1, 'Uribe': 2})"
      ]
    },
    {
      "cell_type": "code",
      "execution_count": 32,
      "id": "d6770ce9-9f9e-44c8-904e-a49fd9c938a7",
      "metadata": {
        "colab": {
          "base_uri": "https://localhost:8080/",
          "height": 354
        },
        "id": "d6770ce9-9f9e-44c8-904e-a49fd9c938a7",
        "outputId": "aef0b876-93b8-4072-f253-18ec9e1ee684"
      },
      "outputs": [
        {
          "output_type": "execute_result",
          "data": {
            "text/html": [
              "\n",
              "  <div id=\"df-5621df70-aee8-4122-bbd0-79c50fe60c6f\">\n",
              "    <div class=\"colab-df-container\">\n",
              "      <div>\n",
              "<style scoped>\n",
              "    .dataframe tbody tr th:only-of-type {\n",
              "        vertical-align: middle;\n",
              "    }\n",
              "\n",
              "    .dataframe tbody tr th {\n",
              "        vertical-align: top;\n",
              "    }\n",
              "\n",
              "    .dataframe thead th {\n",
              "        text-align: right;\n",
              "    }\n",
              "</style>\n",
              "<table border=\"1\" class=\"dataframe\">\n",
              "  <thead>\n",
              "    <tr style=\"text-align: right;\">\n",
              "      <th></th>\n",
              "      <th>Text</th>\n",
              "      <th>Label</th>\n",
              "    </tr>\n",
              "  </thead>\n",
              "  <tbody>\n",
              "    <tr>\n",
              "      <th>0</th>\n",
              "      <td>#Ahora realizamos recorrido de seguridad en Santa Monica, sector Toberin, localidad de #Usaquén. \\n\\nJunto \\n@PoliciaBogota\\n, \\n@Uaesp\\n, \\n@SeguridadBOG\\n, \\n@SectorMovilidad\\n revisamos condiciones del sector. \\n\\nImportantes compromisos: instalación de luminarias y recuperación espacio público.</td>\n",
              "      <td>2</td>\n",
              "    </tr>\n",
              "    <tr>\n",
              "      <th>1</th>\n",
              "      <td>Hoy, en caravana de moteros junto a \\n@jjUscategui\\n, rendimos homenaje a los héroes de nuestra Fuerza Pública asesinados este año. \\n\\nQue el rugido de estas motos sirva de llamado para que cese todo acto de violencia contra nuestros militares y policías. \\n\\n¡No están solos!</td>\n",
              "      <td>2</td>\n",
              "    </tr>\n",
              "    <tr>\n",
              "      <th>2</th>\n",
              "      <td>Acuerdo La Habana obliga al PENIS (Sustitución droga);\\n\\nCada familia recibe 35 mill en 5 años. Total 100 mil flias y 3,5 bill.\\n\\nResultado, crecen cultivos.\\n\\nDenunciar y reformar: condicionar a que por esfuerzo colectivo no haya droga en el entorno.</td>\n",
              "      <td>2</td>\n",
              "    </tr>\n",
              "    <tr>\n",
              "      <th>3</th>\n",
              "      <td>El POT una mentira más de Claudia López. \\n\\nLa meta es generar cerca de 171 hectáreas de espacio público, pero ¿cómo lo hará? sí habilita más de 6.900 hectáreas para la renovación urbana. \\n\\nEntre más aumenta la densidad, menos espacio público habrá.\\n#PilasConElPOT</td>\n",
              "      <td>2</td>\n",
              "    </tr>\n",
              "    <tr>\n",
              "      <th>4</th>\n",
              "      <td>#UribeConLaVerdad - Sobre el Caso de Cajamarca: “El Ministerio de Defensa va a apersonarse de los legítimos intereses de todas estas personas llenas de dolor” \\n@AlvaroUribeVel\\n el 12 de abril de 2004</td>\n",
              "      <td>2</td>\n",
              "    </tr>\n",
              "  </tbody>\n",
              "</table>\n",
              "</div>\n",
              "      <button class=\"colab-df-convert\" onclick=\"convertToInteractive('df-5621df70-aee8-4122-bbd0-79c50fe60c6f')\"\n",
              "              title=\"Convert this dataframe to an interactive table.\"\n",
              "              style=\"display:none;\">\n",
              "        \n",
              "  <svg xmlns=\"http://www.w3.org/2000/svg\" height=\"24px\"viewBox=\"0 0 24 24\"\n",
              "       width=\"24px\">\n",
              "    <path d=\"M0 0h24v24H0V0z\" fill=\"none\"/>\n",
              "    <path d=\"M18.56 5.44l.94 2.06.94-2.06 2.06-.94-2.06-.94-.94-2.06-.94 2.06-2.06.94zm-11 1L8.5 8.5l.94-2.06 2.06-.94-2.06-.94L8.5 2.5l-.94 2.06-2.06.94zm10 10l.94 2.06.94-2.06 2.06-.94-2.06-.94-.94-2.06-.94 2.06-2.06.94z\"/><path d=\"M17.41 7.96l-1.37-1.37c-.4-.4-.92-.59-1.43-.59-.52 0-1.04.2-1.43.59L10.3 9.45l-7.72 7.72c-.78.78-.78 2.05 0 2.83L4 21.41c.39.39.9.59 1.41.59.51 0 1.02-.2 1.41-.59l7.78-7.78 2.81-2.81c.8-.78.8-2.07 0-2.86zM5.41 20L4 18.59l7.72-7.72 1.47 1.35L5.41 20z\"/>\n",
              "  </svg>\n",
              "      </button>\n",
              "      \n",
              "  <style>\n",
              "    .colab-df-container {\n",
              "      display:flex;\n",
              "      flex-wrap:wrap;\n",
              "      gap: 12px;\n",
              "    }\n",
              "\n",
              "    .colab-df-convert {\n",
              "      background-color: #E8F0FE;\n",
              "      border: none;\n",
              "      border-radius: 50%;\n",
              "      cursor: pointer;\n",
              "      display: none;\n",
              "      fill: #1967D2;\n",
              "      height: 32px;\n",
              "      padding: 0 0 0 0;\n",
              "      width: 32px;\n",
              "    }\n",
              "\n",
              "    .colab-df-convert:hover {\n",
              "      background-color: #E2EBFA;\n",
              "      box-shadow: 0px 1px 2px rgba(60, 64, 67, 0.3), 0px 1px 3px 1px rgba(60, 64, 67, 0.15);\n",
              "      fill: #174EA6;\n",
              "    }\n",
              "\n",
              "    [theme=dark] .colab-df-convert {\n",
              "      background-color: #3B4455;\n",
              "      fill: #D2E3FC;\n",
              "    }\n",
              "\n",
              "    [theme=dark] .colab-df-convert:hover {\n",
              "      background-color: #434B5C;\n",
              "      box-shadow: 0px 1px 3px 1px rgba(0, 0, 0, 0.15);\n",
              "      filter: drop-shadow(0px 1px 2px rgba(0, 0, 0, 0.3));\n",
              "      fill: #FFFFFF;\n",
              "    }\n",
              "  </style>\n",
              "\n",
              "      <script>\n",
              "        const buttonEl =\n",
              "          document.querySelector('#df-5621df70-aee8-4122-bbd0-79c50fe60c6f button.colab-df-convert');\n",
              "        buttonEl.style.display =\n",
              "          google.colab.kernel.accessAllowed ? 'block' : 'none';\n",
              "\n",
              "        async function convertToInteractive(key) {\n",
              "          const element = document.querySelector('#df-5621df70-aee8-4122-bbd0-79c50fe60c6f');\n",
              "          const dataTable =\n",
              "            await google.colab.kernel.invokeFunction('convertToInteractive',\n",
              "                                                     [key], {});\n",
              "          if (!dataTable) return;\n",
              "\n",
              "          const docLinkHtml = 'Like what you see? Visit the ' +\n",
              "            '<a target=\"_blank\" href=https://colab.research.google.com/notebooks/data_table.ipynb>data table notebook</a>'\n",
              "            + ' to learn more about interactive tables.';\n",
              "          element.innerHTML = '';\n",
              "          dataTable['output_type'] = 'display_data';\n",
              "          await google.colab.output.renderOutput(dataTable, element);\n",
              "          const docLink = document.createElement('div');\n",
              "          docLink.innerHTML = docLinkHtml;\n",
              "          element.appendChild(docLink);\n",
              "        }\n",
              "      </script>\n",
              "    </div>\n",
              "  </div>\n",
              "  "
            ],
            "text/plain": [
              "                                                                                                                                                                                                                                                                                                          Text  Label\n",
              "0  #Ahora realizamos recorrido de seguridad en Santa Monica, sector Toberin, localidad de #Usaquén. \\n\\nJunto \\n@PoliciaBogota\\n, \\n@Uaesp\\n, \\n@SeguridadBOG\\n, \\n@SectorMovilidad\\n revisamos condiciones del sector. \\n\\nImportantes compromisos: instalación de luminarias y recuperación espacio público.      2\n",
              "1                        Hoy, en caravana de moteros junto a \\n@jjUscategui\\n, rendimos homenaje a los héroes de nuestra Fuerza Pública asesinados este año. \\n\\nQue el rugido de estas motos sirva de llamado para que cese todo acto de violencia contra nuestros militares y policías. \\n\\n¡No están solos!      2\n",
              "2                                               Acuerdo La Habana obliga al PENIS (Sustitución droga);\\n\\nCada familia recibe 35 mill en 5 años. Total 100 mil flias y 3,5 bill.\\n\\nResultado, crecen cultivos.\\n\\nDenunciar y reformar: condicionar a que por esfuerzo colectivo no haya droga en el entorno.      2\n",
              "3                                 El POT una mentira más de Claudia López. \\n\\nLa meta es generar cerca de 171 hectáreas de espacio público, pero ¿cómo lo hará? sí habilita más de 6.900 hectáreas para la renovación urbana. \\n\\nEntre más aumenta la densidad, menos espacio público habrá.\\n#PilasConElPOT      2\n",
              "4                                                                                                    #UribeConLaVerdad - Sobre el Caso de Cajamarca: “El Ministerio de Defensa va a apersonarse de los legítimos intereses de todas estas personas llenas de dolor” \\n@AlvaroUribeVel\\n el 12 de abril de 2004      2"
            ]
          },
          "metadata": {},
          "execution_count": 32
        }
      ],
      "source": [
        "tweets.head()"
      ]
    },
    {
      "cell_type": "code",
      "execution_count": 33,
      "id": "39326dd9-659f-4224-ac07-4c418b223edf",
      "metadata": {
        "colab": {
          "base_uri": "https://localhost:8080/"
        },
        "id": "39326dd9-659f-4224-ac07-4c418b223edf",
        "outputId": "95b0d1c9-2227-4d43-887c-458860f9bc99"
      },
      "outputs": [
        {
          "output_type": "stream",
          "name": "stdout",
          "text": [
            "4 records were lost; that is 0.0013333333333333333% of the dataset.\n"
          ]
        }
      ],
      "source": [
        "diff = initial_size - len(tweets.index)\n",
        "print(f'{diff} records were lost; that is {diff/initial_size}% of the dataset.')"
      ]
    },
    {
      "cell_type": "code",
      "execution_count": 34,
      "id": "f0c632e8-b15e-4354-851e-520c929ab1b3",
      "metadata": {
        "id": "f0c632e8-b15e-4354-851e-520c929ab1b3"
      },
      "outputs": [],
      "source": [
        "def depure(text):\n",
        "    text = text.lower()\n",
        "    text = re.sub(r'^https?:\\/\\/.*[\\r\\n]*', '', text) # Remove links and url's\n",
        "    text = re.sub('#\\S+', ' ', text) # Remove hashtags\n",
        "    text = re.sub('@\\S+', ' ', text) # Remove Twitter mentions\n",
        "    text = re.sub('\\w*\\d\\w*', ' ', text) # Remove words with numbers\n",
        "    text = unidecode.unidecode(text) # More importantly, remove accents\n",
        "    text = re.sub(r'[^\\w\\s]', ' ', text) # Remove puntuaction\n",
        "    text = re.sub('\\n', ' ', text) # Remove filthy, inconvinient new lines >:)))\n",
        "    return text"
      ]
    },
    {
      "cell_type": "code",
      "execution_count": 35,
      "id": "514e1534-6784-4d5f-843b-f743c6796a61",
      "metadata": {
        "id": "514e1534-6784-4d5f-843b-f743c6796a61"
      },
      "outputs": [],
      "source": [
        "spanish_stopwords = nltk.corpus.stopwords.words('spanish')\n",
        "def remove_stopwords(words):\n",
        "    return [word for word in words if word not in spanish_stopwords]"
      ]
    },
    {
      "cell_type": "code",
      "execution_count": 36,
      "id": "cf95d157-d58d-4893-93cc-805c16939a27",
      "metadata": {
        "id": "cf95d157-d58d-4893-93cc-805c16939a27"
      },
      "outputs": [],
      "source": [
        "def stem(words):\n",
        "    return [stemmer.stem(word) for word in words]"
      ]
    },
    {
      "cell_type": "code",
      "execution_count": 37,
      "id": "8cd25c16-2e68-4a58-82a3-1bad426d3d91",
      "metadata": {
        "id": "8cd25c16-2e68-4a58-82a3-1bad426d3d91"
      },
      "outputs": [],
      "source": [
        "def process(text):\n",
        "    depured_text = depure(text)\n",
        "    tokens = word_tokenize(depured_text)\n",
        "    non_stopwords = remove_stopwords(tokens)\n",
        "    stemmed = stem(non_stopwords)\n",
        "    joined = ' '.join(stemmed)\n",
        "    return joined"
      ]
    },
    {
      "cell_type": "code",
      "execution_count": 38,
      "id": "c1e41eca-f080-4b03-b3e1-ae7a945e4348",
      "metadata": {
        "id": "c1e41eca-f080-4b03-b3e1-ae7a945e4348"
      },
      "outputs": [],
      "source": [
        "tweets['Text'] = tweets['Text'].apply(process)"
      ]
    },
    {
      "cell_type": "code",
      "execution_count": 39,
      "id": "83c2fd00-f8d5-4955-8768-528b4c875bf2",
      "metadata": {
        "colab": {
          "base_uri": "https://localhost:8080/",
          "height": 285
        },
        "id": "83c2fd00-f8d5-4955-8768-528b4c875bf2",
        "outputId": "f3f43eb6-1322-4b96-b0dd-004939e56aa4"
      },
      "outputs": [
        {
          "output_type": "execute_result",
          "data": {
            "text/html": [
              "\n",
              "  <div id=\"df-f62caee5-f5fe-42b9-8f2e-47625dadf7eb\">\n",
              "    <div class=\"colab-df-container\">\n",
              "      <div>\n",
              "<style scoped>\n",
              "    .dataframe tbody tr th:only-of-type {\n",
              "        vertical-align: middle;\n",
              "    }\n",
              "\n",
              "    .dataframe tbody tr th {\n",
              "        vertical-align: top;\n",
              "    }\n",
              "\n",
              "    .dataframe thead th {\n",
              "        text-align: right;\n",
              "    }\n",
              "</style>\n",
              "<table border=\"1\" class=\"dataframe\">\n",
              "  <thead>\n",
              "    <tr style=\"text-align: right;\">\n",
              "      <th></th>\n",
              "      <th>Text</th>\n",
              "      <th>Label</th>\n",
              "    </tr>\n",
              "  </thead>\n",
              "  <tbody>\n",
              "    <tr>\n",
              "      <th>0</th>\n",
              "      <td>realiz recorr segur sant monic sector toberin local junt revis condicion sector import compromis instalacion luminari recuperacion espaci public</td>\n",
              "      <td>2</td>\n",
              "    </tr>\n",
              "    <tr>\n",
              "      <th>1</th>\n",
              "      <td>hoy caravan moter junt rend homenaj her fuerz public asesin ano rug mot sirv llam ces acto violenci militar polici estan sol</td>\n",
              "      <td>2</td>\n",
              "    </tr>\n",
              "    <tr>\n",
              "      <th>2</th>\n",
              "      <td>acuerd haban oblig penis sustitucion drog cad famili recib mill anos total mil fli bill result crec cultiv denunci reform condicion esfuerz colect drog entorn</td>\n",
              "      <td>2</td>\n",
              "    </tr>\n",
              "    <tr>\n",
              "      <th>3</th>\n",
              "      <td>pot mentir mas claudi lopez met gener cerc hectar espaci public har si habilit mas hectar renovacion urban mas aument densid men espaci public habr</td>\n",
              "      <td>2</td>\n",
              "    </tr>\n",
              "    <tr>\n",
              "      <th>4</th>\n",
              "      <td>cas cajamarc ministeri defens va aperson legit interes tod person llen dolor abril</td>\n",
              "      <td>2</td>\n",
              "    </tr>\n",
              "  </tbody>\n",
              "</table>\n",
              "</div>\n",
              "      <button class=\"colab-df-convert\" onclick=\"convertToInteractive('df-f62caee5-f5fe-42b9-8f2e-47625dadf7eb')\"\n",
              "              title=\"Convert this dataframe to an interactive table.\"\n",
              "              style=\"display:none;\">\n",
              "        \n",
              "  <svg xmlns=\"http://www.w3.org/2000/svg\" height=\"24px\"viewBox=\"0 0 24 24\"\n",
              "       width=\"24px\">\n",
              "    <path d=\"M0 0h24v24H0V0z\" fill=\"none\"/>\n",
              "    <path d=\"M18.56 5.44l.94 2.06.94-2.06 2.06-.94-2.06-.94-.94-2.06-.94 2.06-2.06.94zm-11 1L8.5 8.5l.94-2.06 2.06-.94-2.06-.94L8.5 2.5l-.94 2.06-2.06.94zm10 10l.94 2.06.94-2.06 2.06-.94-2.06-.94-.94-2.06-.94 2.06-2.06.94z\"/><path d=\"M17.41 7.96l-1.37-1.37c-.4-.4-.92-.59-1.43-.59-.52 0-1.04.2-1.43.59L10.3 9.45l-7.72 7.72c-.78.78-.78 2.05 0 2.83L4 21.41c.39.39.9.59 1.41.59.51 0 1.02-.2 1.41-.59l7.78-7.78 2.81-2.81c.8-.78.8-2.07 0-2.86zM5.41 20L4 18.59l7.72-7.72 1.47 1.35L5.41 20z\"/>\n",
              "  </svg>\n",
              "      </button>\n",
              "      \n",
              "  <style>\n",
              "    .colab-df-container {\n",
              "      display:flex;\n",
              "      flex-wrap:wrap;\n",
              "      gap: 12px;\n",
              "    }\n",
              "\n",
              "    .colab-df-convert {\n",
              "      background-color: #E8F0FE;\n",
              "      border: none;\n",
              "      border-radius: 50%;\n",
              "      cursor: pointer;\n",
              "      display: none;\n",
              "      fill: #1967D2;\n",
              "      height: 32px;\n",
              "      padding: 0 0 0 0;\n",
              "      width: 32px;\n",
              "    }\n",
              "\n",
              "    .colab-df-convert:hover {\n",
              "      background-color: #E2EBFA;\n",
              "      box-shadow: 0px 1px 2px rgba(60, 64, 67, 0.3), 0px 1px 3px 1px rgba(60, 64, 67, 0.15);\n",
              "      fill: #174EA6;\n",
              "    }\n",
              "\n",
              "    [theme=dark] .colab-df-convert {\n",
              "      background-color: #3B4455;\n",
              "      fill: #D2E3FC;\n",
              "    }\n",
              "\n",
              "    [theme=dark] .colab-df-convert:hover {\n",
              "      background-color: #434B5C;\n",
              "      box-shadow: 0px 1px 3px 1px rgba(0, 0, 0, 0.15);\n",
              "      filter: drop-shadow(0px 1px 2px rgba(0, 0, 0, 0.3));\n",
              "      fill: #FFFFFF;\n",
              "    }\n",
              "  </style>\n",
              "\n",
              "      <script>\n",
              "        const buttonEl =\n",
              "          document.querySelector('#df-f62caee5-f5fe-42b9-8f2e-47625dadf7eb button.colab-df-convert');\n",
              "        buttonEl.style.display =\n",
              "          google.colab.kernel.accessAllowed ? 'block' : 'none';\n",
              "\n",
              "        async function convertToInteractive(key) {\n",
              "          const element = document.querySelector('#df-f62caee5-f5fe-42b9-8f2e-47625dadf7eb');\n",
              "          const dataTable =\n",
              "            await google.colab.kernel.invokeFunction('convertToInteractive',\n",
              "                                                     [key], {});\n",
              "          if (!dataTable) return;\n",
              "\n",
              "          const docLinkHtml = 'Like what you see? Visit the ' +\n",
              "            '<a target=\"_blank\" href=https://colab.research.google.com/notebooks/data_table.ipynb>data table notebook</a>'\n",
              "            + ' to learn more about interactive tables.';\n",
              "          element.innerHTML = '';\n",
              "          dataTable['output_type'] = 'display_data';\n",
              "          await google.colab.output.renderOutput(dataTable, element);\n",
              "          const docLink = document.createElement('div');\n",
              "          docLink.innerHTML = docLinkHtml;\n",
              "          element.appendChild(docLink);\n",
              "        }\n",
              "      </script>\n",
              "    </div>\n",
              "  </div>\n",
              "  "
            ],
            "text/plain": [
              "                                                                                                                                                             Text  Label\n",
              "0                realiz recorr segur sant monic sector toberin local junt revis condicion sector import compromis instalacion luminari recuperacion espaci public      2\n",
              "1                                    hoy caravan moter junt rend homenaj her fuerz public asesin ano rug mot sirv llam ces acto violenci militar polici estan sol      2\n",
              "2  acuerd haban oblig penis sustitucion drog cad famili recib mill anos total mil fli bill result crec cultiv denunci reform condicion esfuerz colect drog entorn      2\n",
              "3             pot mentir mas claudi lopez met gener cerc hectar espaci public har si habilit mas hectar renovacion urban mas aument densid men espaci public habr      2\n",
              "4                                                                              cas cajamarc ministeri defens va aperson legit interes tod person llen dolor abril      2"
            ]
          },
          "metadata": {},
          "execution_count": 39
        }
      ],
      "source": [
        "tweets.head()"
      ]
    },
    {
      "cell_type": "code",
      "source": [
        "texts = tweets['Text']\n",
        "labels = tweets['Label']"
      ],
      "metadata": {
        "id": "c4qBNAUTz0vA"
      },
      "id": "c4qBNAUTz0vA",
      "execution_count": 40,
      "outputs": []
    },
    {
      "cell_type": "code",
      "execution_count": 41,
      "id": "ea4d8c5c-c0a3-4046-8f30-ac53401a2cd1",
      "metadata": {
        "id": "ea4d8c5c-c0a3-4046-8f30-ac53401a2cd1"
      },
      "outputs": [],
      "source": [
        "from keras.models import Sequential\n",
        "from keras import layers\n",
        "from keras.optimizers import rmsprop_v2, adam_v2\n",
        "from keras.preprocessing.text import Tokenizer\n",
        "from keras import regularizers\n",
        "from keras.preprocessing.sequence import pad_sequences\n",
        "from keras import regularizers\n",
        "from keras import backend as K\n",
        "from keras.callbacks import ModelCheckpoint\n",
        "\n",
        "from tensorflow.keras.utils import to_categorical\n",
        "from sklearn.model_selection import train_test_split"
      ]
    },
    {
      "cell_type": "code",
      "source": [
        "NUM_CLASSES = 3\n",
        "MAX_WORDS = 60"
      ],
      "metadata": {
        "id": "H7JAMv-322_s"
      },
      "id": "H7JAMv-322_s",
      "execution_count": 42,
      "outputs": []
    },
    {
      "cell_type": "code",
      "source": [
        "# Let's pray on the fact that I'm not crazy and I know exactly what am I doing\n",
        "NUM_CLASSES = 3\n",
        "tokenizer = Tokenizer(num_words=MAX_WORDS)\n",
        "tokenizer.fit_on_texts(texts)\n",
        "sequences = tokenizer.texts_to_sequences(texts)\n",
        "processed_texts = pad_sequences(sequences)"
      ],
      "metadata": {
        "id": "o4NB5JWHt0hg"
      },
      "id": "o4NB5JWHt0hg",
      "execution_count": 43,
      "outputs": []
    },
    {
      "cell_type": "code",
      "source": [
        "X_train, X_test, y_train, y_test = train_test_split(processed_texts, labels, random_state=0)"
      ],
      "metadata": {
        "id": "5ZLJdmAt0cmE"
      },
      "id": "5ZLJdmAt0cmE",
      "execution_count": 44,
      "outputs": []
    },
    {
      "cell_type": "code",
      "source": [
        "y_train_oh = to_categorical(y_train, NUM_CLASSES)\n",
        "y_test_oh = to_categorical(y_test, NUM_CLASSES)"
      ],
      "metadata": {
        "id": "jqwrLqiiqFOv"
      },
      "id": "jqwrLqiiqFOv",
      "execution_count": 45,
      "outputs": []
    },
    {
      "cell_type": "code",
      "source": [
        "y_train_oh"
      ],
      "metadata": {
        "id": "1SKQAaWhq2HR"
      },
      "id": "1SKQAaWhq2HR",
      "execution_count": null,
      "outputs": []
    },
    {
      "cell_type": "code",
      "source": [
        "model = Sequential()\n",
        "model.add(layers.Embedding(MAX_WORDS, 20))\n",
        "model.add(layers.LSTM(15, dropout=0.5))\n",
        "model.add(layers.Dense(NUM_CLASSES, activation='softmax'))\n",
        "\n",
        "model.compile(optimizer='rmsprop', loss='categorical_crossentropy', metrics=['accuracy'])\n",
        "history = model.fit(X_train, y_train_oh, epochs=70, validation_data=(X_test, y_test_oh))"
      ],
      "metadata": {
        "colab": {
          "base_uri": "https://localhost:8080/"
        },
        "id": "ZMxIIg4X1WFc",
        "outputId": "de6bc84b-0cab-438e-d40d-488a41c1c299"
      },
      "id": "ZMxIIg4X1WFc",
      "execution_count": 48,
      "outputs": [
        {
          "output_type": "stream",
          "name": "stdout",
          "text": [
            "Epoch 1/70\n",
            "71/71 [==============================] - 4s 18ms/step - loss: 1.0974 - accuracy: 0.3623 - val_loss: 1.0960 - val_accuracy: 0.3872\n",
            "Epoch 2/70\n",
            "71/71 [==============================] - 1s 10ms/step - loss: 1.0898 - accuracy: 0.4219 - val_loss: 1.0907 - val_accuracy: 0.3698\n",
            "Epoch 3/70\n",
            "71/71 [==============================] - 1s 9ms/step - loss: 1.0754 - accuracy: 0.4513 - val_loss: 1.0804 - val_accuracy: 0.4099\n",
            "Epoch 4/70\n",
            "71/71 [==============================] - 1s 9ms/step - loss: 1.0534 - accuracy: 0.4709 - val_loss: 1.0747 - val_accuracy: 0.4005\n",
            "Epoch 5/70\n",
            "71/71 [==============================] - 1s 10ms/step - loss: 1.0317 - accuracy: 0.4784 - val_loss: 1.0742 - val_accuracy: 0.4059\n",
            "Epoch 6/70\n",
            "71/71 [==============================] - 1s 11ms/step - loss: 1.0141 - accuracy: 0.4717 - val_loss: 1.0613 - val_accuracy: 0.4499\n",
            "Epoch 7/70\n",
            "71/71 [==============================] - 1s 11ms/step - loss: 1.0021 - accuracy: 0.4913 - val_loss: 1.0644 - val_accuracy: 0.4486\n",
            "Epoch 8/70\n",
            "71/71 [==============================] - 1s 10ms/step - loss: 0.9945 - accuracy: 0.4935 - val_loss: 1.0568 - val_accuracy: 0.4579\n",
            "Epoch 9/70\n",
            "71/71 [==============================] - 1s 10ms/step - loss: 0.9896 - accuracy: 0.4940 - val_loss: 1.0616 - val_accuracy: 0.4513\n",
            "Epoch 10/70\n",
            "71/71 [==============================] - 1s 9ms/step - loss: 0.9856 - accuracy: 0.5042 - val_loss: 1.0571 - val_accuracy: 0.4713\n",
            "Epoch 11/70\n",
            "71/71 [==============================] - 1s 10ms/step - loss: 0.9825 - accuracy: 0.5042 - val_loss: 1.0585 - val_accuracy: 0.4579\n",
            "Epoch 12/70\n",
            "71/71 [==============================] - 1s 10ms/step - loss: 0.9844 - accuracy: 0.4967 - val_loss: 1.0588 - val_accuracy: 0.4593\n",
            "Epoch 13/70\n",
            "71/71 [==============================] - 1s 9ms/step - loss: 0.9762 - accuracy: 0.5029 - val_loss: 1.0572 - val_accuracy: 0.4646\n",
            "Epoch 14/70\n",
            "71/71 [==============================] - 1s 9ms/step - loss: 0.9785 - accuracy: 0.5065 - val_loss: 1.0621 - val_accuracy: 0.4593\n",
            "Epoch 15/70\n",
            "71/71 [==============================] - 1s 9ms/step - loss: 0.9787 - accuracy: 0.5051 - val_loss: 1.0640 - val_accuracy: 0.4606\n",
            "Epoch 16/70\n",
            "71/71 [==============================] - 1s 10ms/step - loss: 0.9749 - accuracy: 0.5136 - val_loss: 1.0601 - val_accuracy: 0.4646\n",
            "Epoch 17/70\n",
            "71/71 [==============================] - 1s 9ms/step - loss: 0.9739 - accuracy: 0.5007 - val_loss: 1.0585 - val_accuracy: 0.4713\n",
            "Epoch 18/70\n",
            "71/71 [==============================] - 1s 10ms/step - loss: 0.9739 - accuracy: 0.5060 - val_loss: 1.0664 - val_accuracy: 0.4673\n",
            "Epoch 19/70\n",
            "71/71 [==============================] - 1s 10ms/step - loss: 0.9753 - accuracy: 0.5056 - val_loss: 1.0540 - val_accuracy: 0.4726\n",
            "Epoch 20/70\n",
            "71/71 [==============================] - 1s 10ms/step - loss: 0.9755 - accuracy: 0.5105 - val_loss: 1.0530 - val_accuracy: 0.4619\n",
            "Epoch 21/70\n",
            "71/71 [==============================] - 1s 10ms/step - loss: 0.9776 - accuracy: 0.4962 - val_loss: 1.0533 - val_accuracy: 0.4726\n",
            "Epoch 22/70\n",
            "71/71 [==============================] - 1s 11ms/step - loss: 0.9705 - accuracy: 0.5024 - val_loss: 1.0571 - val_accuracy: 0.4673\n",
            "Epoch 23/70\n",
            "71/71 [==============================] - 1s 10ms/step - loss: 0.9813 - accuracy: 0.5056 - val_loss: 1.0576 - val_accuracy: 0.4539\n",
            "Epoch 24/70\n",
            "71/71 [==============================] - 1s 11ms/step - loss: 0.9712 - accuracy: 0.5073 - val_loss: 1.0722 - val_accuracy: 0.4486\n",
            "Epoch 25/70\n",
            "71/71 [==============================] - 1s 11ms/step - loss: 0.9666 - accuracy: 0.5122 - val_loss: 1.0571 - val_accuracy: 0.4726\n",
            "Epoch 26/70\n",
            "71/71 [==============================] - 1s 9ms/step - loss: 0.9731 - accuracy: 0.4949 - val_loss: 1.0538 - val_accuracy: 0.4766\n",
            "Epoch 27/70\n",
            "71/71 [==============================] - 1s 11ms/step - loss: 0.9657 - accuracy: 0.5087 - val_loss: 1.0585 - val_accuracy: 0.4646\n",
            "Epoch 28/70\n",
            "71/71 [==============================] - 1s 9ms/step - loss: 0.9729 - accuracy: 0.5118 - val_loss: 1.0556 - val_accuracy: 0.4660\n",
            "Epoch 29/70\n",
            "71/71 [==============================] - 1s 10ms/step - loss: 0.9723 - accuracy: 0.5180 - val_loss: 1.0612 - val_accuracy: 0.4593\n",
            "Epoch 30/70\n",
            "71/71 [==============================] - 1s 10ms/step - loss: 0.9709 - accuracy: 0.5109 - val_loss: 1.0728 - val_accuracy: 0.4526\n",
            "Epoch 31/70\n",
            "71/71 [==============================] - 1s 10ms/step - loss: 0.9714 - accuracy: 0.5105 - val_loss: 1.0568 - val_accuracy: 0.4700\n",
            "Epoch 32/70\n",
            "71/71 [==============================] - 1s 9ms/step - loss: 0.9696 - accuracy: 0.5113 - val_loss: 1.0570 - val_accuracy: 0.4633\n",
            "Epoch 33/70\n",
            "71/71 [==============================] - 1s 9ms/step - loss: 0.9694 - accuracy: 0.5176 - val_loss: 1.0582 - val_accuracy: 0.4780\n",
            "Epoch 34/70\n",
            "71/71 [==============================] - 1s 9ms/step - loss: 0.9702 - accuracy: 0.5162 - val_loss: 1.0520 - val_accuracy: 0.4820\n",
            "Epoch 35/70\n",
            "71/71 [==============================] - 1s 9ms/step - loss: 0.9665 - accuracy: 0.5122 - val_loss: 1.0560 - val_accuracy: 0.4660\n",
            "Epoch 36/70\n",
            "71/71 [==============================] - 1s 9ms/step - loss: 0.9710 - accuracy: 0.5096 - val_loss: 1.0492 - val_accuracy: 0.4753\n",
            "Epoch 37/70\n",
            "71/71 [==============================] - 1s 9ms/step - loss: 0.9668 - accuracy: 0.5180 - val_loss: 1.0525 - val_accuracy: 0.4713\n",
            "Epoch 38/70\n",
            "71/71 [==============================] - 1s 9ms/step - loss: 0.9688 - accuracy: 0.5216 - val_loss: 1.0501 - val_accuracy: 0.4753\n",
            "Epoch 39/70\n",
            "71/71 [==============================] - 1s 9ms/step - loss: 0.9660 - accuracy: 0.5180 - val_loss: 1.0517 - val_accuracy: 0.4700\n",
            "Epoch 40/70\n",
            "71/71 [==============================] - 1s 9ms/step - loss: 0.9723 - accuracy: 0.5069 - val_loss: 1.0487 - val_accuracy: 0.4766\n",
            "Epoch 41/70\n",
            "71/71 [==============================] - 1s 10ms/step - loss: 0.9641 - accuracy: 0.5122 - val_loss: 1.0507 - val_accuracy: 0.4793\n",
            "Epoch 42/70\n",
            "71/71 [==============================] - 1s 9ms/step - loss: 0.9654 - accuracy: 0.5180 - val_loss: 1.0526 - val_accuracy: 0.4673\n",
            "Epoch 43/70\n",
            "71/71 [==============================] - 1s 9ms/step - loss: 0.9681 - accuracy: 0.5065 - val_loss: 1.0521 - val_accuracy: 0.4673\n",
            "Epoch 44/70\n",
            "71/71 [==============================] - 1s 9ms/step - loss: 0.9679 - accuracy: 0.5100 - val_loss: 1.0508 - val_accuracy: 0.4780\n",
            "Epoch 45/70\n",
            "71/71 [==============================] - 1s 9ms/step - loss: 0.9710 - accuracy: 0.5047 - val_loss: 1.0576 - val_accuracy: 0.4606\n",
            "Epoch 46/70\n",
            "71/71 [==============================] - 1s 9ms/step - loss: 0.9653 - accuracy: 0.5109 - val_loss: 1.0540 - val_accuracy: 0.4766\n",
            "Epoch 47/70\n",
            "71/71 [==============================] - 1s 9ms/step - loss: 0.9744 - accuracy: 0.5065 - val_loss: 1.0519 - val_accuracy: 0.4793\n",
            "Epoch 48/70\n",
            "71/71 [==============================] - 1s 9ms/step - loss: 0.9656 - accuracy: 0.5087 - val_loss: 1.0548 - val_accuracy: 0.4686\n",
            "Epoch 49/70\n",
            "71/71 [==============================] - 1s 9ms/step - loss: 0.9633 - accuracy: 0.5202 - val_loss: 1.0572 - val_accuracy: 0.4673\n",
            "Epoch 50/70\n",
            "71/71 [==============================] - 1s 9ms/step - loss: 0.9675 - accuracy: 0.5140 - val_loss: 1.0580 - val_accuracy: 0.4660\n",
            "Epoch 51/70\n",
            "71/71 [==============================] - 1s 9ms/step - loss: 0.9617 - accuracy: 0.5145 - val_loss: 1.0520 - val_accuracy: 0.4726\n",
            "Epoch 52/70\n",
            "71/71 [==============================] - 1s 9ms/step - loss: 0.9599 - accuracy: 0.5149 - val_loss: 1.0559 - val_accuracy: 0.4740\n",
            "Epoch 53/70\n",
            "71/71 [==============================] - 1s 9ms/step - loss: 0.9650 - accuracy: 0.5225 - val_loss: 1.0565 - val_accuracy: 0.4660\n",
            "Epoch 54/70\n",
            "71/71 [==============================] - 1s 9ms/step - loss: 0.9653 - accuracy: 0.5154 - val_loss: 1.0523 - val_accuracy: 0.4806\n",
            "Epoch 55/70\n",
            "71/71 [==============================] - 1s 9ms/step - loss: 0.9597 - accuracy: 0.5211 - val_loss: 1.0555 - val_accuracy: 0.4713\n",
            "Epoch 56/70\n",
            "71/71 [==============================] - 1s 10ms/step - loss: 0.9561 - accuracy: 0.5194 - val_loss: 1.0641 - val_accuracy: 0.4566\n",
            "Epoch 57/70\n",
            "71/71 [==============================] - 1s 10ms/step - loss: 0.9626 - accuracy: 0.5274 - val_loss: 1.0598 - val_accuracy: 0.4619\n",
            "Epoch 58/70\n",
            "71/71 [==============================] - 1s 9ms/step - loss: 0.9652 - accuracy: 0.4998 - val_loss: 1.0547 - val_accuracy: 0.4713\n",
            "Epoch 59/70\n",
            "71/71 [==============================] - 1s 9ms/step - loss: 0.9518 - accuracy: 0.5234 - val_loss: 1.0548 - val_accuracy: 0.4900\n",
            "Epoch 60/70\n",
            "71/71 [==============================] - 1s 9ms/step - loss: 0.9608 - accuracy: 0.5162 - val_loss: 1.0533 - val_accuracy: 0.4913\n",
            "Epoch 61/70\n",
            "71/71 [==============================] - 1s 10ms/step - loss: 0.9577 - accuracy: 0.5265 - val_loss: 1.0563 - val_accuracy: 0.4713\n",
            "Epoch 62/70\n",
            "71/71 [==============================] - 1s 10ms/step - loss: 0.9544 - accuracy: 0.5256 - val_loss: 1.0559 - val_accuracy: 0.4806\n",
            "Epoch 63/70\n",
            "71/71 [==============================] - 1s 11ms/step - loss: 0.9597 - accuracy: 0.5149 - val_loss: 1.0644 - val_accuracy: 0.4579\n",
            "Epoch 64/70\n",
            "71/71 [==============================] - 1s 11ms/step - loss: 0.9582 - accuracy: 0.5265 - val_loss: 1.0623 - val_accuracy: 0.4700\n",
            "Epoch 65/70\n",
            "71/71 [==============================] - 1s 10ms/step - loss: 0.9610 - accuracy: 0.5131 - val_loss: 1.0652 - val_accuracy: 0.4753\n",
            "Epoch 66/70\n",
            "71/71 [==============================] - 1s 9ms/step - loss: 0.9576 - accuracy: 0.5234 - val_loss: 1.0572 - val_accuracy: 0.4740\n",
            "Epoch 67/70\n",
            "71/71 [==============================] - 1s 9ms/step - loss: 0.9572 - accuracy: 0.5238 - val_loss: 1.0541 - val_accuracy: 0.4833\n",
            "Epoch 68/70\n",
            "71/71 [==============================] - 1s 9ms/step - loss: 0.9499 - accuracy: 0.5234 - val_loss: 1.0584 - val_accuracy: 0.4713\n",
            "Epoch 69/70\n",
            "71/71 [==============================] - 1s 9ms/step - loss: 0.9535 - accuracy: 0.5211 - val_loss: 1.0611 - val_accuracy: 0.4740\n",
            "Epoch 70/70\n",
            "71/71 [==============================] - 1s 9ms/step - loss: 0.9527 - accuracy: 0.5202 - val_loss: 1.0616 - val_accuracy: 0.4726\n"
          ]
        }
      ]
    }
  ],
  "metadata": {
    "kernelspec": {
      "display_name": "Python 3 (ipykernel)",
      "language": "python",
      "name": "python3"
    },
    "language_info": {
      "codemirror_mode": {
        "name": "ipython",
        "version": 3
      },
      "file_extension": ".py",
      "mimetype": "text/x-python",
      "name": "python",
      "nbconvert_exporter": "python",
      "pygments_lexer": "ipython3",
      "version": "3.9.7"
    },
    "colab": {
      "name": "pre_processing_and_training.ipynb",
      "provenance": [],
      "collapsed_sections": []
    }
  },
  "nbformat": 4,
  "nbformat_minor": 5
}